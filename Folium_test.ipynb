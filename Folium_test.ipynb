{
 "cells": [
  {
   "cell_type": "code",
   "execution_count": 1,
   "metadata": {
    "collapsed": true
   },
   "outputs": [],
   "source": [
    "import folium"
   ]
  },
  {
   "cell_type": "code",
   "execution_count": 2,
   "metadata": {
    "collapsed": true
   },
   "outputs": [],
   "source": [
    "import geopy"
   ]
  },
  {
   "cell_type": "code",
   "execution_count": 3,
   "metadata": {
    "collapsed": true
   },
   "outputs": [],
   "source": [
    "from geopy.geocoders import GoogleV3"
   ]
  },
  {
   "cell_type": "code",
   "execution_count": 4,
   "metadata": {
    "collapsed": true
   },
   "outputs": [],
   "source": [
    "from geopy.geocoders import GoogleV3\n",
    "geolocator = GoogleV3()\n",
    "from IPython.display import HTML"
   ]
  },
  {
   "cell_type": "code",
   "execution_count": 5,
   "metadata": {
    "collapsed": false
   },
   "outputs": [
    {
     "name": "stdout",
     "output_type": "stream",
     "text": [
      "(u'10 East 21st Street, New York, NY 10010, USA', 40.7398848, -73.9900818)\n"
     ]
    }
   ],
   "source": [
    "addy=\"10 E 21 St,New York, NY\"\n",
    "address, (latitude,longitude) = geolocator.geocode(addy)\n",
    "print(address, latitude, longitude)"
   ]
  },
  {
   "cell_type": "code",
   "execution_count": 10,
   "metadata": {
    "collapsed": true
   },
   "outputs": [],
   "source": [
    "# Establish a map centered at lat/long, set \"tiles\" and zoom levels\n",
    "map_ourmap = folium.Map(location=[latitude,longitude],zoom_start=13,tiles=\"Stamen Toner\")\n",
    "\n",
    "# Create circle marker around it.  Try map_ourmap? for additional functions in the \"Map\" class\n",
    "map_ourmap.circle_marker(location=[latitude,longitude],radius=200,fill_opacity=0.5,fill_color='#3186cc')\n",
    "\n",
    "# Make the map!\n",
    "map_ourmap.create_map(path='ourmap.html')\n",
    "\n",
    "# Display the map inline\n",
    "#HTML('<iframe src=ourmap.html width=800 height = 500><iframe>')"
   ]
  },
  {
   "cell_type": "code",
   "execution_count": null,
   "metadata": {
    "collapsed": true
   },
   "outputs": [],
   "source": []
  },
  {
   "cell_type": "code",
   "execution_count": null,
   "metadata": {
    "collapsed": true
   },
   "outputs": [],
   "source": []
  }
 ],
 "metadata": {
  "kernelspec": {
   "display_name": "Python 2",
   "language": "python",
   "name": "python2"
  },
  "language_info": {
   "codemirror_mode": {
    "name": "ipython",
    "version": 2
   },
   "file_extension": ".py",
   "mimetype": "text/x-python",
   "name": "python",
   "nbconvert_exporter": "python",
   "pygments_lexer": "ipython2",
   "version": "2.7.6"
  }
 },
 "nbformat": 4,
 "nbformat_minor": 0
}
